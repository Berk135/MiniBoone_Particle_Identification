{
 "cells": [
  {
   "cell_type": "markdown",
   "id": "3f1ca873",
   "metadata": {},
   "source": [
    "<h2> 2. Exploratory Data Analysis </h2>\n",
    "\n",
    "Now, I will explore the MiniBooNE data set."
   ]
  },
  {
   "cell_type": "code",
   "execution_count": 2,
   "id": "948dcb3a",
   "metadata": {},
   "outputs": [],
   "source": [
    "import pandas as pd"
   ]
  },
  {
   "cell_type": "code",
   "execution_count": 3,
   "id": "536ceec8",
   "metadata": {},
   "outputs": [],
   "source": [
    "#Get data from the parquet file\n",
    "df = pd.read_parquet('data/miniboone.parquet')"
   ]
  },
  {
   "cell_type": "code",
   "execution_count": 4,
   "id": "35056972",
   "metadata": {},
   "outputs": [
    {
     "name": "stdout",
     "output_type": "stream",
     "text": [
      "(130064, 51)\n"
     ]
    },
    {
     "data": {
      "text/html": [
       "<div>\n",
       "<style scoped>\n",
       "    .dataframe tbody tr th:only-of-type {\n",
       "        vertical-align: middle;\n",
       "    }\n",
       "\n",
       "    .dataframe tbody tr th {\n",
       "        vertical-align: top;\n",
       "    }\n",
       "\n",
       "    .dataframe thead th {\n",
       "        text-align: right;\n",
       "    }\n",
       "</style>\n",
       "<table border=\"1\" class=\"dataframe\">\n",
       "  <thead>\n",
       "    <tr style=\"text-align: right;\">\n",
       "      <th></th>\n",
       "      <th>C1</th>\n",
       "      <th>C2</th>\n",
       "      <th>C3</th>\n",
       "      <th>C4</th>\n",
       "      <th>C5</th>\n",
       "      <th>C6</th>\n",
       "      <th>C7</th>\n",
       "      <th>C8</th>\n",
       "      <th>C9</th>\n",
       "      <th>C10</th>\n",
       "      <th>...</th>\n",
       "      <th>C42</th>\n",
       "      <th>C43</th>\n",
       "      <th>C44</th>\n",
       "      <th>C45</th>\n",
       "      <th>C46</th>\n",
       "      <th>C47</th>\n",
       "      <th>C48</th>\n",
       "      <th>C49</th>\n",
       "      <th>C50</th>\n",
       "      <th>particle</th>\n",
       "    </tr>\n",
       "  </thead>\n",
       "  <tbody>\n",
       "    <tr>\n",
       "      <th>0</th>\n",
       "      <td>2.59413</td>\n",
       "      <td>0.468803</td>\n",
       "      <td>20.6916</td>\n",
       "      <td>0.322648</td>\n",
       "      <td>0.009682</td>\n",
       "      <td>0.374393</td>\n",
       "      <td>0.803479</td>\n",
       "      <td>0.896592</td>\n",
       "      <td>3.59665</td>\n",
       "      <td>0.249282</td>\n",
       "      <td>...</td>\n",
       "      <td>-31.3730</td>\n",
       "      <td>0.442259</td>\n",
       "      <td>5.86453</td>\n",
       "      <td>0.000000</td>\n",
       "      <td>0.090519</td>\n",
       "      <td>0.176909</td>\n",
       "      <td>0.457585</td>\n",
       "      <td>0.071769</td>\n",
       "      <td>0.245996</td>\n",
       "      <td>1</td>\n",
       "    </tr>\n",
       "    <tr>\n",
       "      <th>1</th>\n",
       "      <td>3.86388</td>\n",
       "      <td>0.645781</td>\n",
       "      <td>18.1375</td>\n",
       "      <td>0.233529</td>\n",
       "      <td>0.030733</td>\n",
       "      <td>0.361239</td>\n",
       "      <td>1.069740</td>\n",
       "      <td>0.878714</td>\n",
       "      <td>3.59243</td>\n",
       "      <td>0.200793</td>\n",
       "      <td>...</td>\n",
       "      <td>45.9597</td>\n",
       "      <td>-0.478507</td>\n",
       "      <td>6.11126</td>\n",
       "      <td>0.001182</td>\n",
       "      <td>0.091800</td>\n",
       "      <td>-0.465572</td>\n",
       "      <td>0.935523</td>\n",
       "      <td>0.333613</td>\n",
       "      <td>0.230621</td>\n",
       "      <td>1</td>\n",
       "    </tr>\n",
       "    <tr>\n",
       "      <th>2</th>\n",
       "      <td>3.38584</td>\n",
       "      <td>1.197140</td>\n",
       "      <td>36.0807</td>\n",
       "      <td>0.200866</td>\n",
       "      <td>0.017341</td>\n",
       "      <td>0.260841</td>\n",
       "      <td>1.108950</td>\n",
       "      <td>0.884405</td>\n",
       "      <td>3.43159</td>\n",
       "      <td>0.177167</td>\n",
       "      <td>...</td>\n",
       "      <td>-11.5608</td>\n",
       "      <td>-0.297008</td>\n",
       "      <td>8.27204</td>\n",
       "      <td>0.003854</td>\n",
       "      <td>0.141721</td>\n",
       "      <td>-0.210559</td>\n",
       "      <td>1.013450</td>\n",
       "      <td>0.255512</td>\n",
       "      <td>0.180901</td>\n",
       "      <td>1</td>\n",
       "    </tr>\n",
       "    <tr>\n",
       "      <th>3</th>\n",
       "      <td>4.28524</td>\n",
       "      <td>0.510155</td>\n",
       "      <td>674.2010</td>\n",
       "      <td>0.281923</td>\n",
       "      <td>0.009174</td>\n",
       "      <td>0.000000</td>\n",
       "      <td>0.998822</td>\n",
       "      <td>0.823390</td>\n",
       "      <td>3.16382</td>\n",
       "      <td>0.171678</td>\n",
       "      <td>...</td>\n",
       "      <td>-18.4586</td>\n",
       "      <td>0.453886</td>\n",
       "      <td>2.48112</td>\n",
       "      <td>0.000000</td>\n",
       "      <td>0.180938</td>\n",
       "      <td>0.407968</td>\n",
       "      <td>4.341270</td>\n",
       "      <td>0.473081</td>\n",
       "      <td>0.258990</td>\n",
       "      <td>1</td>\n",
       "    </tr>\n",
       "    <tr>\n",
       "      <th>4</th>\n",
       "      <td>5.93662</td>\n",
       "      <td>0.832993</td>\n",
       "      <td>59.8796</td>\n",
       "      <td>0.232853</td>\n",
       "      <td>0.025066</td>\n",
       "      <td>0.233556</td>\n",
       "      <td>1.370040</td>\n",
       "      <td>0.787424</td>\n",
       "      <td>3.66546</td>\n",
       "      <td>0.174862</td>\n",
       "      <td>...</td>\n",
       "      <td>42.9600</td>\n",
       "      <td>-0.975752</td>\n",
       "      <td>2.66109</td>\n",
       "      <td>0.000000</td>\n",
       "      <td>0.170836</td>\n",
       "      <td>-0.814403</td>\n",
       "      <td>4.679490</td>\n",
       "      <td>1.924990</td>\n",
       "      <td>0.253893</td>\n",
       "      <td>1</td>\n",
       "    </tr>\n",
       "  </tbody>\n",
       "</table>\n",
       "<p>5 rows × 51 columns</p>\n",
       "</div>"
      ],
      "text/plain": [
       "        C1        C2        C3        C4        C5        C6        C7  \\\n",
       "0  2.59413  0.468803   20.6916  0.322648  0.009682  0.374393  0.803479   \n",
       "1  3.86388  0.645781   18.1375  0.233529  0.030733  0.361239  1.069740   \n",
       "2  3.38584  1.197140   36.0807  0.200866  0.017341  0.260841  1.108950   \n",
       "3  4.28524  0.510155  674.2010  0.281923  0.009174  0.000000  0.998822   \n",
       "4  5.93662  0.832993   59.8796  0.232853  0.025066  0.233556  1.370040   \n",
       "\n",
       "         C8       C9       C10  ...      C42       C43      C44       C45  \\\n",
       "0  0.896592  3.59665  0.249282  ... -31.3730  0.442259  5.86453  0.000000   \n",
       "1  0.878714  3.59243  0.200793  ...  45.9597 -0.478507  6.11126  0.001182   \n",
       "2  0.884405  3.43159  0.177167  ... -11.5608 -0.297008  8.27204  0.003854   \n",
       "3  0.823390  3.16382  0.171678  ... -18.4586  0.453886  2.48112  0.000000   \n",
       "4  0.787424  3.66546  0.174862  ...  42.9600 -0.975752  2.66109  0.000000   \n",
       "\n",
       "        C46       C47       C48       C49       C50  particle  \n",
       "0  0.090519  0.176909  0.457585  0.071769  0.245996         1  \n",
       "1  0.091800 -0.465572  0.935523  0.333613  0.230621         1  \n",
       "2  0.141721 -0.210559  1.013450  0.255512  0.180901         1  \n",
       "3  0.180938  0.407968  4.341270  0.473081  0.258990         1  \n",
       "4  0.170836 -0.814403  4.679490  1.924990  0.253893         1  \n",
       "\n",
       "[5 rows x 51 columns]"
      ]
     },
     "execution_count": 4,
     "metadata": {},
     "output_type": "execute_result"
    }
   ],
   "source": [
    "#Get the shape of the data & take a look at first 5 rows\n",
    "print(df.shape)\n",
    "df.head()"
   ]
  },
  {
   "cell_type": "markdown",
   "id": "e42f60ba",
   "metadata": {},
   "source": [
    "The data set has 130064 rows and 51 columns, the last one being the particle (target) whereas the rest are the 50 particle ID columns (features)."
   ]
  },
  {
   "cell_type": "markdown",
   "id": "1bcec4a2",
   "metadata": {},
   "source": [
    "From the data set information and the first notebook, we know that there are 36499 electron neutrinos (designated as 1's) and 93565 muon neutrinos (designated as 0's)."
   ]
  },
  {
   "cell_type": "code",
   "execution_count": 7,
   "id": "cb6c6cdd",
   "metadata": {},
   "outputs": [
    {
     "name": "stdout",
     "output_type": "stream",
     "text": [
      "Number of electron neutrinos:  36499\n",
      "Number of muon neutrinos:  93565\n"
     ]
    }
   ],
   "source": [
    "print(\"Number of electron neutrinos: \", len(df[df[\"particle\"]==1]))\n",
    "print(\"Number of muon neutrinos: \",len(df[df[\"particle\"]==0]))"
   ]
  },
  {
   "cell_type": "code",
   "execution_count": null,
   "id": "d7c2384a",
   "metadata": {},
   "outputs": [],
   "source": []
  }
 ],
 "metadata": {
  "kernelspec": {
   "display_name": "Python 3",
   "language": "python",
   "name": "python3"
  },
  "language_info": {
   "codemirror_mode": {
    "name": "ipython",
    "version": 3
   },
   "file_extension": ".py",
   "mimetype": "text/x-python",
   "name": "python",
   "nbconvert_exporter": "python",
   "pygments_lexer": "ipython3",
   "version": "3.8.8"
  }
 },
 "nbformat": 4,
 "nbformat_minor": 5
}
